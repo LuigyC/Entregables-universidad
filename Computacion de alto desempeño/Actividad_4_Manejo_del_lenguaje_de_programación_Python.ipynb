{
  "nbformat": 4,
  "nbformat_minor": 0,
  "metadata": {
    "colab": {
      "provenance": []
    },
    "kernelspec": {
      "name": "python3",
      "display_name": "Python 3"
    },
    "language_info": {
      "name": "python"
    }
  },
  "cells": [
    {
      "cell_type": "markdown",
      "source": [
        "### 1. Media\n",
        "La fórmula de la media aritmética es:\n",
        "\n",
        "$$\n",
        "\\text{Media} = \\frac{1}{n} \\sum_{i=1}^n x_i\n",
        "$$\n",
        "donde:\n",
        "- \\( x_i \\): valores del conjunto de datos\n",
        "- \\( n \\): número total de valores\n",
        "\n",
        "### 2. Mediana\n",
        "La fórmula de la mediana depende de si el número de elementos es impar o par:\n",
        "\n",
        "- Si \\( n \\) es impar:\n",
        "$$\n",
        "\\text{Mediana} = x_{\\frac{n+1}{2}}\n",
        "$$\n",
        "\n",
        "- Si \\( n \\) es par:\n",
        "$$\n",
        "\\text{Mediana} = \\frac{x_{\\frac{n}{2}} + x_{\\frac{n}{2} + 1}}{2}\n",
        "$$\n",
        "\n",
        "### 3. Moda\n",
        "La moda es el valor que más veces se repite en el conjunto de datos. Si hay más de un valor con la máxima frecuencia, el conjunto es multimodal.\n",
        "\n",
        "### 4. Varianza\n",
        "La fórmula de la varianza es:\n",
        "\n",
        "$$\n",
        "\\text{Varianza} = \\frac{1}{n} \\sum_{i=1}^n (x_i - \\text{Media})^2\n",
        "$$\n",
        "\n",
        "donde:\n",
        "- \\( x_i \\): valores del conjunto de datos\n",
        "- \\( \\text{Media} \\): la media del conjunto de datos\n",
        "\n",
        "### 5. Desviación Estándar\n",
        "La desviación estándar es la raíz cuadrada de la varianza:\n",
        "\n",
        "$$\n",
        "\\text{Desviación Estandar} = \\sqrt{\\text{Varianza}}\n",
        "$$\n",
        "\n",
        "### 6. Coeficiente de Variación\n",
        "El coeficiente de variación es:\n",
        "\n",
        "$$\n",
        "\\text{Coeficiente de Variación} = \\frac{\\text{Desviación Estandar}}{\\text{Media}} \\times 100\n",
        "$$\n",
        "\n",
        "### 7. Normalización Z\n",
        "La fórmula para normalización Z es:\n",
        "\n",
        "$$\n",
        "Z = \\frac{x_i - \\text{Media}}{\\text{Desviación Estandar}}\n",
        "$$\n",
        "\n",
        "donde:\n",
        "- \\( Z \\): valor estandarizado\n",
        "- \\( x_i \\): valor del conjunto de datos"
      ],
      "metadata": {
        "id": "ozGOXbJrnEGF"
      }
    },
    {
      "cell_type": "markdown",
      "source": [
        "Media\n",
        "Descripción: La media aritmética es el promedio de un conjunto de datos. Se calcula sumando todos los valores y dividiéndolos por la cantidad total de valores."
      ],
      "metadata": {
        "id": "RlSd0UCsnL30"
      }
    },
    {
      "cell_type": "code",
      "execution_count": 1,
      "metadata": {
        "id": "nYi5QJX4kY2T",
        "colab": {
          "base_uri": "https://localhost:8080/"
        },
        "outputId": "3149f0b8-121f-4f85-bb7c-15ebab7759c5"
      },
      "outputs": [
        {
          "output_type": "stream",
          "name": "stdout",
          "text": [
            "Media: 20.0\n"
          ]
        }
      ],
      "source": [
        "def calcular_media(datos):\n",
        "    suma = sum(datos)\n",
        "    n = len(datos)\n",
        "    return suma / n\n",
        "\n",
        "# Ejemplo\n",
        "datos = [10, 15, 20, 25, 30]\n",
        "print(\"Media:\", calcular_media(datos))"
      ]
    },
    {
      "cell_type": "markdown",
      "source": [
        "Mediana\n",
        "Descripción: La mediana es el valor que se encuentra en el centro del conjunto de datos ordenado. Si el número de elementos es par, la mediana es el promedio de los dos valores centrales."
      ],
      "metadata": {
        "id": "Xl01EFO6nR49"
      }
    },
    {
      "cell_type": "code",
      "source": [
        "def calcular_mediana(datos):\n",
        "    datos_ordenados = sorted(datos)\n",
        "    n = len(datos)\n",
        "    mitad = n // 2\n",
        "    if n % 2 == 0:\n",
        "        return (datos_ordenados[mitad - 1] + datos_ordenados[mitad]) / 2\n",
        "    else:\n",
        "        return datos_ordenados[mitad]\n",
        "\n",
        "# Ejemplo\n",
        "datos = [10, 15, 20, 25, 30]\n",
        "print(\"Mediana:\", calcular_mediana(datos))\n"
      ],
      "metadata": {
        "colab": {
          "base_uri": "https://localhost:8080/"
        },
        "id": "itjIjUBalbZd",
        "outputId": "58a962ae-f955-47bc-d97a-ad32c83fac86"
      },
      "execution_count": 2,
      "outputs": [
        {
          "output_type": "stream",
          "name": "stdout",
          "text": [
            "Mediana: 20\n"
          ]
        }
      ]
    },
    {
      "cell_type": "markdown",
      "source": [
        "Moda\n",
        "Descripción: La moda es el valor que más veces se repite en un conjunto de datos. Puede haber más de una moda si varios valores tienen la misma frecuencia máxima."
      ],
      "metadata": {
        "id": "dFUcstJZnUec"
      }
    },
    {
      "cell_type": "code",
      "source": [
        "def calcular_moda(datos):\n",
        "    frecuencia = {}\n",
        "    for valor in datos:\n",
        "        if valor in frecuencia:\n",
        "            frecuencia[valor] += 1\n",
        "        else:\n",
        "            frecuencia[valor] = 1\n",
        "    moda = [key for key, value in frecuencia.items() if value == max(frecuencia.values())]\n",
        "    return moda\n",
        "\n",
        "# Ejemplo\n",
        "datos = [10, 15, 20, 20, 30, 30, 30]\n",
        "print(\"Moda:\", calcular_moda(datos))\n"
      ],
      "metadata": {
        "colab": {
          "base_uri": "https://localhost:8080/"
        },
        "id": "B8M7Dgvdlbf8",
        "outputId": "c2b0e951-a0db-41e8-d751-563d65c68ddd"
      },
      "execution_count": 3,
      "outputs": [
        {
          "output_type": "stream",
          "name": "stdout",
          "text": [
            "Moda: [30]\n"
          ]
        }
      ]
    },
    {
      "cell_type": "markdown",
      "source": [
        "Varianza\n",
        "Descripción: La varianza mide la dispersión de los datos con respecto a la media. Es el promedio de los cuadrados de las diferencias entre cada valor y la media."
      ],
      "metadata": {
        "id": "-dj_1YDPnW9P"
      }
    },
    {
      "cell_type": "code",
      "source": [
        "def calcular_varianza(datos):\n",
        "    media = calcular_media(datos)\n",
        "    suma_cuadrados = sum((x - media) ** 2 for x in datos)\n",
        "    return suma_cuadrados / len(datos)\n",
        "\n",
        "# Ejemplo\n",
        "datos = [10, 15, 20, 25, 30]\n",
        "print(\"Varianza:\", calcular_varianza(datos))\n"
      ],
      "metadata": {
        "colab": {
          "base_uri": "https://localhost:8080/"
        },
        "id": "xbyvGbQUlbmh",
        "outputId": "70edeb80-fa52-4257-e563-4a1402380139"
      },
      "execution_count": 4,
      "outputs": [
        {
          "output_type": "stream",
          "name": "stdout",
          "text": [
            "Varianza: 50.0\n"
          ]
        }
      ]
    },
    {
      "cell_type": "markdown",
      "source": [
        "Desviación Estándar\n",
        "Descripción: La desviación estándar es la raíz cuadrada de la varianza y mide la dispersión de los datos en las mismas unidades que el conjunto original."
      ],
      "metadata": {
        "id": "uAaoRgtqnaPn"
      }
    },
    {
      "cell_type": "code",
      "source": [
        "import math\n",
        "\n",
        "def calcular_desviacion_estandar(datos):\n",
        "    varianza = calcular_varianza(datos)\n",
        "    return math.sqrt(varianza)\n",
        "\n",
        "# Ejemplo\n",
        "datos = [10, 15, 20, 25, 30]\n",
        "print(\"Desviación Estándar:\", calcular_desviacion_estandar(datos))\n"
      ],
      "metadata": {
        "colab": {
          "base_uri": "https://localhost:8080/"
        },
        "id": "atP5TBA8lbpR",
        "outputId": "7f6560cd-7822-4697-b169-d0bc37036cd0"
      },
      "execution_count": 5,
      "outputs": [
        {
          "output_type": "stream",
          "name": "stdout",
          "text": [
            "Desviación Estándar: 7.0710678118654755\n"
          ]
        }
      ]
    },
    {
      "cell_type": "markdown",
      "source": [
        "Coeficiente de Variación\n",
        "Descripción: El coeficiente de variación es una medida de la dispersión relativa y se calcula dividiendo la desviación estándar entre la media, expresado como porcentaje."
      ],
      "metadata": {
        "id": "03wHgMcEndnQ"
      }
    },
    {
      "cell_type": "code",
      "source": [
        "def calcular_coeficiente_variacion(datos):\n",
        "    media = calcular_media(datos)\n",
        "    desviacion_estandar = calcular_desviacion_estandar(datos)\n",
        "    return (desviacion_estandar / media) * 100\n",
        "\n",
        "# Ejemplo\n",
        "datos = [10, 15, 20, 25, 30]\n",
        "print(\"Coeficiente de Variación:\", calcular_coeficiente_variacion(datos), \"%\")\n"
      ],
      "metadata": {
        "colab": {
          "base_uri": "https://localhost:8080/"
        },
        "id": "WLrxxmfNljnw",
        "outputId": "84fe562c-911b-4b41-c945-da315e350c35"
      },
      "execution_count": 6,
      "outputs": [
        {
          "output_type": "stream",
          "name": "stdout",
          "text": [
            "Coeficiente de Variación: 35.35533905932738 %\n"
          ]
        }
      ]
    },
    {
      "cell_type": "markdown",
      "source": [
        "Normalización Z\n",
        "Descripción: La normalización Z transforma los datos para que tengan media 0 y desviación estándar 1. Para cada valor, se resta la media y se divide entre la desviación estándar."
      ],
      "metadata": {
        "id": "Vy4Mn0cAngNa"
      }
    },
    {
      "cell_type": "code",
      "source": [
        "def normalizar_z(datos):\n",
        "    media = calcular_media(datos)\n",
        "    desviacion_estandar = calcular_desviacion_estandar(datos)\n",
        "    return [(x - media) / desviacion_estandar for x in datos]\n",
        "\n",
        "# Ejemplo\n",
        "datos = [10, 15, 20, 25, 30]\n",
        "print(\"Normalización Z:\", normalizar_z(datos))\n"
      ],
      "metadata": {
        "colab": {
          "base_uri": "https://localhost:8080/"
        },
        "id": "7Y-PvdYRllV1",
        "outputId": "4b2c8aab-81b4-4625-a098-835af4be35fa"
      },
      "execution_count": 7,
      "outputs": [
        {
          "output_type": "stream",
          "name": "stdout",
          "text": [
            "Normalización Z: [-1.414213562373095, -0.7071067811865475, 0.0, 0.7071067811865475, 1.414213562373095]\n"
          ]
        }
      ]
    }
  ]
}